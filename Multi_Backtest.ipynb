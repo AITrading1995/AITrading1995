{
  "nbformat": 4,
  "nbformat_minor": 0,
  "metadata": {
    "colab": {
      "provenance": [],
      "authorship_tag": "ABX9TyOMF7FRrWNcRMsL280ai5L1",
      "include_colab_link": true
    },
    "kernelspec": {
      "name": "python3",
      "display_name": "Python 3"
    },
    "language_info": {
      "name": "python"
    }
  },
  "cells": [
    {
      "cell_type": "markdown",
      "metadata": {
        "id": "view-in-github",
        "colab_type": "text"
      },
      "source": [
        "<a href=\"https://colab.research.google.com/github/AITrading1995/AITrading1995/blob/main/Multi_Backtest.ipynb\" target=\"_parent\"><img src=\"https://colab.research.google.com/assets/colab-badge.svg\" alt=\"Open In Colab\"/></a>"
      ]
    },
    {
      "cell_type": "code",
      "execution_count": null,
      "metadata": {
        "id": "VgNVFf5_na52"
      },
      "outputs": [],
      "source": [
        "!pip install --upgrade --no-cache-dir git+https://github.com/rongardF/tvdatafeed.git mplfinance backtesting pandas_ta numpy==1.23.5"
      ]
    },
    {
      "cell_type": "code",
      "source": [
        "import pandas as pd\n",
        "import pandas_ta as ta\n",
        "import matplotlib.pyplot as plt\n",
        "import mplfinance as mpf\n",
        "import math\n",
        "import numpy as np\n",
        "from backtesting import Backtest, Strategy\n",
        "from tvDatafeed import TvDatafeed, Interval\n",
        "import datetime as dt\n",
        "import seaborn as sns\n",
        "import warnings\n",
        "warnings.filterwarnings('ignore')\n"
      ],
      "metadata": {
        "id": "k6GghOSEoEpk"
      },
      "execution_count": null,
      "outputs": []
    },
    {
      "cell_type": "code",
      "source": [
        "def download(symbol,exchange,tf,bar):\n",
        "  tf_map = {\n",
        "      '1m': Interval.in_1_minute,\n",
        "      '5m': Interval.in_5_minute,\n",
        "      '15m': Interval.in_15_minute,\n",
        "      '30m': Interval.in_30_minute,\n",
        "      '1h': Interval.in_1_hour,\n",
        "      '2h': Interval.in_2_hour,\n",
        "      '4h': Interval.in_4_hour,\n",
        "      '1d': Interval.in_daily\n",
        "  }\n",
        "  tv = TvDatafeed()\n",
        "  data = tv.get_hist(symbol=symbol,exchange=exchange,interval=tf_map[tf],n_bars=bar)\n",
        "  if data is not None:\n",
        "    data.drop(columns='symbol', inplace=True)\n",
        "    data.rename({\n",
        "        'open':'Open'\n",
        "        ,'high':'High'\n",
        "        ,'low':'Low'\n",
        "        ,'close':'Close'\n",
        "        ,'volume':'Volume'}, axis='columns', inplace=True)\n",
        "  return data"
      ],
      "metadata": {
        "id": "NgUedaofoq82"
      },
      "execution_count": null,
      "outputs": []
    },
    {
      "cell_type": "code",
      "source": [
        "symbol = 'XAUUSD'\n",
        "exchange = 'OANDA'\n",
        "tf = '1h'\n",
        "bar = 10000\n",
        "df = download(symbol,exchange,tf,bar)"
      ],
      "metadata": {
        "id": "NTiYioOjqDYG"
      },
      "execution_count": null,
      "outputs": []
    },
    {
      "cell_type": "code",
      "source": [
        "multi_symbol = ['XAUUSD','USDJPY','AUDNZD','GBPEUR','USDCAD','AUDCAD','AUDJPY','CADJPY','USDTHB','XAGUSD','US30','CAC40']\n",
        "multi_data= {}\n",
        "for sym in multi_symbol:\n",
        "  data=download(sym,'OANDA','1h',10000)\n",
        "  multi_data[sym] = data"
      ],
      "metadata": {
        "id": "TpxjjHaFqG_1"
      },
      "execution_count": null,
      "outputs": []
    },
    {
      "cell_type": "code",
      "source": [
        "multi_data_list =[]\n",
        "for sym in multi_symbol:\n",
        "  data=download(sym,'OANDA','1h',10000)\n",
        "  multi_data_list.append(data)"
      ],
      "metadata": {
        "id": "IpqhIRE-r5Fj"
      },
      "execution_count": null,
      "outputs": []
    },
    {
      "cell_type": "code",
      "source": [
        "multi_data.keys()"
      ],
      "metadata": {
        "id": "O3-AcOrutQoY"
      },
      "execution_count": null,
      "outputs": []
    },
    {
      "cell_type": "code",
      "source": [
        "dfs = {symbol : df['Close'] for symbol , df in multi_data.items() if df is not None}\n",
        "dfs = pd.DataFrame(dfs)"
      ],
      "metadata": {
        "id": "EFm3lEqcvFgy"
      },
      "execution_count": null,
      "outputs": []
    },
    {
      "cell_type": "code",
      "source": [
        "dfs.dropna(inplace=True)"
      ],
      "metadata": {
        "id": "Uhc9Asf3wMWd"
      },
      "execution_count": null,
      "outputs": []
    },
    {
      "cell_type": "code",
      "source": [
        "returns = np.log(dfs / dfs.shift(1))\n",
        "corr = returns.corr()"
      ],
      "metadata": {
        "id": "GQ8PC3zXxeMl"
      },
      "execution_count": null,
      "outputs": []
    },
    {
      "cell_type": "code",
      "source": [
        "plt.figure(figsize=(15,8))\n",
        "sns.heatmap(corr, annot=True, cmap='coolwarm',linewidths=1)\n",
        "plt.show()"
      ],
      "metadata": {
        "id": "w4qHzt1bx7Y9"
      },
      "execution_count": null,
      "outputs": []
    },
    {
      "cell_type": "code",
      "source": [
        "def parkinson_vol(high,low,length):\n",
        "  high = np.asanyarray(high)\n",
        "  low = np.asanyarray(low)\n",
        "  n = high.shape[0]\n",
        "  vol = np.full(n,np.nan)\n",
        "\n",
        "  log_high_sqrt = np.log(high/low)**2\n",
        "  for i in range(length,n):\n",
        "    sum_sqrt = np.sum(log_high_sqrt[i-length:i])\n",
        "    vol[i] = np.sqrt((1/(4*length*np.log(2)))*(2*sum_sqrt))\n",
        "  return vol"
      ],
      "metadata": {
        "id": "8hL41dbW3F0u"
      },
      "execution_count": null,
      "outputs": []
    },
    {
      "cell_type": "code",
      "source": [
        "def ema(data, period):\n",
        "    if data is None or len(data) == 0:\n",
        "        return np.array([])\n",
        "    return pd.Series(data).ewm(span=period, adjust=False).mean().to_numpy()\n",
        "\n",
        "def sma(data, period):\n",
        "    if data is None or len(data) == 0:\n",
        "        return np.array([])\n",
        "    return pd.Series(data).rolling(window=period).mean().to_numpy()\n",
        "\n",
        "def derivertive_1(df):\n",
        "  return np.gradient(df)\n",
        "def derivertive_2(df):\n",
        "  return np.gradient(derivertive_1(df))"
      ],
      "metadata": {
        "id": "rUPEW2zt5K04"
      },
      "execution_count": null,
      "outputs": []
    },
    {
      "cell_type": "code",
      "source": [
        "df['vol'] = parkinson_vol(df['High'],df['Low'],30)\n",
        "df['ema_vol'] = sma(df['vol'],30)\n",
        "df['ema'] = sma(df['Close'],50)\n",
        "df['derivertive_1'] = derivertive_1(df['vol'])\n",
        "df['derivertive_2'] = derivertive_2(df['vol'])\n",
        "\n",
        "print(df.index[-1])"
      ],
      "metadata": {
        "id": "055KY4f9451Y"
      },
      "execution_count": null,
      "outputs": []
    },
    {
      "cell_type": "markdown",
      "source": [
        "#Logic\n",
        "Close > ema\n",
        "derivertive_1 > 0.000004\n",
        "vol.shift(1) > vol_ema\n",
        "\n"
      ],
      "metadata": {
        "id": "fqkOset6L871"
      }
    },
    {
      "cell_type": "code",
      "source": [
        "start = '2025-05-01 '\n",
        "end = '2025-05-25'\n",
        "\n",
        "dfp = df.loc[start:end]\n",
        "\n",
        "# Condition: vol shift >= ema_vol\n",
        "markers_data = pd.Series(np.nan, index=dfp.index)\n",
        "condition_marker = dfp['vol'].shift(1) >= dfp['ema_vol']\n",
        "markers_data[condition_marker] = dfp['ema'][condition_marker]\n",
        "\n",
        "# Derivative condition\n",
        "derivertive_signal_series = pd.Series(np.nan, index=dfp.index)\n",
        "condition_derivative = dfp['derivertive_1'] > 1e-8\n",
        "derivertive_signal_series[condition_derivative] = dfp['Close'][condition_derivative]\n",
        "\n",
        "# Buy condition\n",
        "buy_sig = pd.Series(np.nan, index=dfp.index)\n",
        "buy_con = (\n",
        "    (dfp['Close'] > dfp['ema']) &\n",
        "    (dfp['derivertive_1'] > 1e-8) &\n",
        "    (dfp['vol'].shift(1) > dfp['ema_vol'])\n",
        ")\n",
        "buy_sig[buy_con] = dfp['Close'][buy_con]\n",
        "\n",
        "# 🔻 Sell condition\n",
        "sell_sig = pd.Series(np.nan, index=dfp.index)\n",
        "sell_con = (\n",
        "    (dfp['Close'] < dfp['ema']) &\n",
        "    (dfp['derivertive_1'] > 1e-8) &\n",
        "    (dfp['vol'].shift(1) > dfp['ema_vol'])\n",
        ")\n",
        "sell_sig[sell_con] = dfp['Close'][sell_con]\n",
        "\n",
        "# Additional plots\n",
        "add_plot = [\n",
        "    mpf.make_addplot(dfp['ema'], color='blue', width=1),\n",
        "    mpf.make_addplot(markers_data, type='scatter', markersize=50, marker='o', color='g', alpha=0.7),\n",
        "    #mpf.make_addplot(derivertive_signal_series, type='scatter', markersize=50, marker='o', color='blue', alpha=0.7),\n",
        "    mpf.make_addplot(dfp['vol'], color='red', width=1, panel=1),\n",
        "    mpf.make_addplot(dfp['ema_vol'], color='green', width=1, panel=1),\n",
        "    mpf.make_addplot(buy_sig, type='scatter', markersize=80, marker='^', color='lime', label='Buy Signal'),\n",
        "    mpf.make_addplot(sell_sig, type='scatter', markersize=80, marker='v', color='red', label='Sell Signal')\n",
        "]\n",
        "\n",
        "# Plotting\n",
        "mpf.plot(\n",
        "    dfp,\n",
        "    type='candle',\n",
        "    style='binance',\n",
        "    figratio=(30, 9),\n",
        "    figscale=1.5,\n",
        "    addplot=add_plot\n",
        ")\n",
        "\n",
        "plt.show()"
      ],
      "metadata": {
        "id": "AZlaS5TG5AAt",
        "collapsed": true
      },
      "execution_count": null,
      "outputs": []
    },
    {
      "cell_type": "code",
      "source": [
        "price = df.Close.iloc[-1]\n",
        "sl = 0.004\n",
        "tp = 0.008\n",
        "\n",
        "sl = price *sl\n",
        "tp = price *tp\n",
        "print('sl',sl)\n",
        "print('tp',tp)\n",
        "sl_ =price-sl\n",
        "tp_ =price+tp\n",
        "print('last',price)\n",
        "print('real ls' ,sl_ )\n",
        "print('real tp' ,tp_)"
      ],
      "metadata": {
        "id": "bIGMQdFFfIr5"
      },
      "execution_count": null,
      "outputs": []
    },
    {
      "cell_type": "code",
      "source": [
        "class Momentum(Strategy):\n",
        "    # Strategy parameters (class-level defaults)\n",
        "    ema_param = 43\n",
        "    vol_param = 94\n",
        "    mu_vol = 30\n",
        "    sl_pct = 0.010\n",
        "    tp_pct = 0.012\n",
        "\n",
        "    def init(self):\n",
        "        # Use self.data.Close instead of df.Close\n",
        "        self.close = self.data.Close\n",
        "\n",
        "        self.ema = self.I(ema, self.close, self.ema_param)\n",
        "        self.vol = self.I(parkinson_vol, self.data.High, self.data.Low, self.vol_param)\n",
        "        self.derivertive_1 = self.I(derivertive_1, self.vol)\n",
        "        self.sma_vol = self.I(sma, self.vol, self.mu_vol)\n",
        "\n",
        "    def next(self):\n",
        "        price = self.close[-1]\n",
        "        sl_amount = price * self.sl_pct\n",
        "        tp_amount = price * self.tp_pct\n",
        "\n",
        "        # Get the latest values\n",
        "        ema_now = self.ema[-1]\n",
        "        d1_now = self.derivertive_1[-1]\n",
        "        vol_prev = self.vol[-2]\n",
        "        sma_vol_now = self.sma_vol[-1]\n",
        "\n",
        "        buy_con = (\n",
        "            (price > ema_now) and\n",
        "            (d1_now > 1e-8) and\n",
        "            (vol_prev > sma_vol_now)\n",
        "        )\n",
        "\n",
        "        sell_con = (\n",
        "            (price < ema_now) and\n",
        "            (d1_now > 1e-8) and\n",
        "            (vol_prev > sma_vol_now)\n",
        "        )\n",
        "\n",
        "\n",
        "        if  self.position:\n",
        "          pass\n",
        "        elif buy_con:\n",
        "                self.buy(limit=price,size=1,sl=price - sl_amount, tp=price + tp_amount)\n",
        "        if self.position:\n",
        "            pass\n",
        "        elif sell_con:\n",
        "             self.sell(limit=price,size=1,sl=price + sl_amount, tp=price- tp_amount)"
      ],
      "metadata": {
        "id": "KnUEhUMMQeqU"
      },
      "execution_count": null,
      "outputs": []
    },
    {
      "cell_type": "code",
      "source": [
        "bt = Backtest(\n",
        "    df,\n",
        "    Momentum,\n",
        "    cash=10000,\n",
        "    commission=0.00002,\n",
        "    exclusive_orders=False,\n",
        "    trade_on_close=True\n",
        ")\n",
        "print(bt.run())"
      ],
      "metadata": {
        "id": "h3JF-ldJBERi"
      },
      "execution_count": null,
      "outputs": []
    },
    {
      "cell_type": "code",
      "source": [
        "bt.plot(plot_trades=True,plot_equity=True,plot_drawdown=True,plot_volume=False,plot_return=False,show_legend=True)"
      ],
      "metadata": {
        "id": "uYKIJEKZAHK7"
      },
      "execution_count": null,
      "outputs": []
    },
    {
      "cell_type": "code",
      "source": [
        "bt = Backtest(\n",
        "    df,\n",
        "    Momentum,\n",
        "    cash=10000,\n",
        "    commission=0.00002,\n",
        "    exclusive_orders=False,\n",
        "    trade_on_close=True,\n",
        ")\n",
        "\n",
        "stats, heatmap = bt.optimize(\n",
        "    ema_param=range(10, 100, 3),\n",
        "    vol_param=range(10, 100, 3),\n",
        "    mu_vol=range(10, 100, 5),\n",
        "    sl_pct=[0.002, 0.004, 0.006, 0.008, 0.010],\n",
        "    tp_pct=[0.004, 0.006, 0.008, 0.010, 0.012],\n",
        "    constraint=lambda p: p.tp_pct > p.sl_pct,\n",
        "    maximize='Equity Final [$]',\n",
        "    max_tries=500,\n",
        "    random_state=42,\n",
        "    return_heatmap=True\n",
        ")"
      ],
      "metadata": {
        "id": "1hQkgpkukqIl"
      },
      "execution_count": null,
      "outputs": []
    },
    {
      "cell_type": "code",
      "source": [
        "from backtesting.lib import  plot_heatmaps\n",
        "plot_heatmaps(heatmap, agg='mean')\n"
      ],
      "metadata": {
        "id": "El304R4UoQdt"
      },
      "execution_count": null,
      "outputs": []
    },
    {
      "cell_type": "code",
      "source": [
        "print(stats)"
      ],
      "metadata": {
        "id": "zIxZvIGlp0bZ"
      },
      "execution_count": null,
      "outputs": []
    },
    {
      "cell_type": "code",
      "source": [
        "heatmap.sort_values().iloc[-5:]"
      ],
      "metadata": {
        "id": "02cs8DTmpqJX"
      },
      "execution_count": null,
      "outputs": []
    },
    {
      "cell_type": "code",
      "source": [
        "multi_data_list"
      ],
      "metadata": {
        "id": "L-yDLkqwucFH"
      },
      "execution_count": null,
      "outputs": []
    },
    {
      "cell_type": "code",
      "source": [
        "for symbol, data in multi_data.items():\n",
        "    if data is None:\n",
        "        print(f\"Skipping {symbol} because data is None\")\n",
        "        continue\n",
        "\n",
        "    bt = Backtest(\n",
        "        data,\n",
        "        Momentum,\n",
        "        cash=10_000,\n",
        "        commission=0.00002,\n",
        "        exclusive_orders=True,\n",
        "        trade_on_close=True,\n",
        "    )\n",
        "    stats = bt.run()\n",
        "    print(f\"Backtest results for symbol {symbol}:\")\n",
        "    print(stats)\n",
        "    #bt.plot() กรณี ต้องการ plot ผลลัพทั้งหมด"
      ],
      "metadata": {
        "id": "kYZzMki0qQCV"
      },
      "execution_count": null,
      "outputs": []
    }
  ]
}